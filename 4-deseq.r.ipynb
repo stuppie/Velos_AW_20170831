{
 "cells": [
  {
   "cell_type": "code",
   "execution_count": 53,
   "metadata": {},
   "outputs": [
    {
     "data": {
      "text/html": [
       "'/home/gstupp/projects/Wolan/wolan/Velos_AW_20170831'"
      ],
      "text/latex": [
       "'/home/gstupp/projects/Wolan/wolan/Velos\\_AW\\_20170831'"
      ],
      "text/markdown": [
       "'/home/gstupp/projects/Wolan/wolan/Velos_AW_20170831'"
      ],
      "text/plain": [
       "[1] \"/home/gstupp/projects/Wolan/wolan/Velos_AW_20170831\""
      ]
     },
     "metadata": {},
     "output_type": "display_data"
    }
   ],
   "source": [
    "library(\"geneplotter\")\n",
    "library(\"ggplot2\")\n",
    "library(\"vsn\")\n",
    "library(\"genefilter\")\n",
    "library(\"DESeq2\")\n",
    "getwd()"
   ]
  },
  {
   "cell_type": "code",
   "execution_count": 54,
   "metadata": {},
   "outputs": [
    {
     "data": {
      "text/html": [
       "<table>\n",
       "<thead><tr><th></th><th scope=col>biological</th><th scope=col>technical</th><th scope=col>unenriched</th><th scope=col>probe</th><th scope=col>sample_type</th><th scope=col>sample_type2</th><th scope=col>sample_name</th><th scope=col>path</th></tr></thead>\n",
       "<tbody>\n",
       "\t<tr><th scope=row>Neg1rep1</th><td>1                                            </td><td>1                                            </td><td>FALSE                                        </td><td>FALSE                                        </td><td>neg                                          </td><td>probe                                        </td><td>neg1                                         </td><td>data/Neg1rep1/DTASelect-filter.txt           </td></tr>\n",
       "\t<tr><th scope=row>Neg1rep2</th><td>1                                            </td><td>2                                            </td><td>FALSE                                        </td><td>FALSE                                        </td><td>neg                                          </td><td>probe                                        </td><td>neg1                                         </td><td>data/Neg1rep2/DTASelect-filter.txt           </td></tr>\n",
       "\t<tr><th scope=row>Neg1rep3</th><td>1                                            </td><td>3                                            </td><td>FALSE                                        </td><td>FALSE                                        </td><td>neg                                          </td><td>probe                                        </td><td>neg1                                         </td><td>data/Neg1rep3/DTASelect-filter.txt           </td></tr>\n",
       "\t<tr><th scope=row>Nov_unenriched1rep1</th><td>1                                            </td><td>1                                            </td><td> TRUE                                        </td><td>FALSE                                        </td><td>unenriched                                   </td><td>unenriched                                   </td><td>unenriched1                                  </td><td>data/Nov_unenriched1rep1/DTASelect-filter.txt</td></tr>\n",
       "\t<tr><th scope=row>Nov_unenriched1rep2</th><td>1                                            </td><td>2                                            </td><td> TRUE                                        </td><td>FALSE                                        </td><td>unenriched                                   </td><td>unenriched                                   </td><td>unenriched1                                  </td><td>data/Nov_unenriched1rep2/DTASelect-filter.txt</td></tr>\n",
       "\t<tr><th scope=row>Nov_unenriched1rep3</th><td>1                                            </td><td>3                                            </td><td> TRUE                                        </td><td>FALSE                                        </td><td>unenriched                                   </td><td>unenriched                                   </td><td>unenriched1                                  </td><td>data/Nov_unenriched1rep3/DTASelect-filter.txt</td></tr>\n",
       "\t<tr><th scope=row>Nov_unenriched2rep1</th><td>2                                            </td><td>1                                            </td><td> TRUE                                        </td><td>FALSE                                        </td><td>unenriched                                   </td><td>unenriched                                   </td><td>unenriched2                                  </td><td>data/Nov_unenriched2rep1/DTASelect-filter.txt</td></tr>\n",
       "\t<tr><th scope=row>Nov_unenriched2rep2</th><td>2                                            </td><td>2                                            </td><td> TRUE                                        </td><td>FALSE                                        </td><td>unenriched                                   </td><td>unenriched                                   </td><td>unenriched2                                  </td><td>data/Nov_unenriched2rep2/DTASelect-filter.txt</td></tr>\n",
       "\t<tr><th scope=row>Nov_unenriched2rep3</th><td>2                                            </td><td>3                                            </td><td> TRUE                                        </td><td>FALSE                                        </td><td>unenriched                                   </td><td>unenriched                                   </td><td>unenriched2                                  </td><td>data/Nov_unenriched2rep3/DTASelect-filter.txt</td></tr>\n",
       "\t<tr><th scope=row>Nov_unenriched3rep1</th><td>3                                            </td><td>1                                            </td><td> TRUE                                        </td><td>FALSE                                        </td><td>unenriched                                   </td><td>unenriched                                   </td><td>unenriched3                                  </td><td>data/Nov_unenriched3rep1/DTASelect-filter.txt</td></tr>\n",
       "\t<tr><th scope=row>Nov_unenriched3rep2</th><td>3                                            </td><td>2                                            </td><td> TRUE                                        </td><td>FALSE                                        </td><td>unenriched                                   </td><td>unenriched                                   </td><td>unenriched3                                  </td><td>data/Nov_unenriched3rep2/DTASelect-filter.txt</td></tr>\n",
       "\t<tr><th scope=row>Nov_unenriched3rep3</th><td>3                                            </td><td>3                                            </td><td> TRUE                                        </td><td>FALSE                                        </td><td>unenriched                                   </td><td>unenriched                                   </td><td>unenriched3                                  </td><td>data/Nov_unenriched3rep3/DTASelect-filter.txt</td></tr>\n",
       "\t<tr><th scope=row>Nov_VK1rep1</th><td>1                                            </td><td>1                                            </td><td>FALSE                                        </td><td> TRUE                                        </td><td>probe                                        </td><td>probe                                        </td><td>vk1                                          </td><td>data/Nov_VK1rep1/DTASelect-filter.txt        </td></tr>\n",
       "\t<tr><th scope=row>Nov_VK1rep2</th><td>1                                            </td><td>2                                            </td><td>FALSE                                        </td><td> TRUE                                        </td><td>probe                                        </td><td>probe                                        </td><td>vk1                                          </td><td>data/Nov_VK1rep2/DTASelect-filter.txt        </td></tr>\n",
       "\t<tr><th scope=row>Nov_VK1rep3</th><td>1                                            </td><td>3                                            </td><td>FALSE                                        </td><td> TRUE                                        </td><td>probe                                        </td><td>probe                                        </td><td>vk1                                          </td><td>data/Nov_VK1rep3/DTASelect-filter.txt        </td></tr>\n",
       "\t<tr><th scope=row>Nov_VK3rep1</th><td>2                                            </td><td>1                                            </td><td>FALSE                                        </td><td> TRUE                                        </td><td>probe                                        </td><td>probe                                        </td><td>vk2                                          </td><td>data/Nov_VK3rep1/DTASelect-filter.txt        </td></tr>\n",
       "\t<tr><th scope=row>Nov_VK3rep2</th><td>2                                            </td><td>2                                            </td><td>FALSE                                        </td><td> TRUE                                        </td><td>probe                                        </td><td>probe                                        </td><td>vk2                                          </td><td>data/Nov_VK3rep2/DTASelect-filter.txt        </td></tr>\n",
       "\t<tr><th scope=row>Nov_VK3rep3</th><td>2                                            </td><td>3                                            </td><td>FALSE                                        </td><td> TRUE                                        </td><td>probe                                        </td><td>probe                                        </td><td>vk2                                          </td><td>data/Nov_VK3rep3/DTASelect-filter.txt        </td></tr>\n",
       "\t<tr><th scope=row>Nov_VK5rep1</th><td>3                                            </td><td>1                                            </td><td>FALSE                                        </td><td> TRUE                                        </td><td>probe                                        </td><td>probe                                        </td><td>vk3                                          </td><td>data/Nov_VK5rep1/DTASelect-filter.txt        </td></tr>\n",
       "\t<tr><th scope=row>Nov_VK5rep2</th><td>3                                            </td><td>2                                            </td><td>FALSE                                        </td><td> TRUE                                        </td><td>probe                                        </td><td>probe                                        </td><td>vk3                                          </td><td>data/Nov_VK5rep2/DTASelect-filter.txt        </td></tr>\n",
       "\t<tr><th scope=row>Nov_VK5rep3</th><td>3                                            </td><td>3                                            </td><td>FALSE                                        </td><td> TRUE                                        </td><td>probe                                        </td><td>probe                                        </td><td>vk3                                          </td><td>data/Nov_VK5rep3/DTASelect-filter.txt        </td></tr>\n",
       "</tbody>\n",
       "</table>\n"
      ],
      "text/latex": [
       "\\begin{tabular}{r|llllllll}\n",
       "  & biological & technical & unenriched & probe & sample\\_type & sample\\_type2 & sample\\_name & path\\\\\n",
       "\\hline\n",
       "\tNeg1rep1 & 1                                             & 1                                             & FALSE                                         & FALSE                                         & neg                                           & probe                                         & neg1                                          & data/Neg1rep1/DTASelect-filter.txt           \\\\\n",
       "\tNeg1rep2 & 1                                             & 2                                             & FALSE                                         & FALSE                                         & neg                                           & probe                                         & neg1                                          & data/Neg1rep2/DTASelect-filter.txt           \\\\\n",
       "\tNeg1rep3 & 1                                             & 3                                             & FALSE                                         & FALSE                                         & neg                                           & probe                                         & neg1                                          & data/Neg1rep3/DTASelect-filter.txt           \\\\\n",
       "\tNov\\_unenriched1rep1 & 1                                               & 1                                               &  TRUE                                           & FALSE                                           & unenriched                                      & unenriched                                      & unenriched1                                     & data/Nov\\_unenriched1rep1/DTASelect-filter.txt\\\\\n",
       "\tNov\\_unenriched1rep2 & 1                                               & 2                                               &  TRUE                                           & FALSE                                           & unenriched                                      & unenriched                                      & unenriched1                                     & data/Nov\\_unenriched1rep2/DTASelect-filter.txt\\\\\n",
       "\tNov\\_unenriched1rep3 & 1                                               & 3                                               &  TRUE                                           & FALSE                                           & unenriched                                      & unenriched                                      & unenriched1                                     & data/Nov\\_unenriched1rep3/DTASelect-filter.txt\\\\\n",
       "\tNov\\_unenriched2rep1 & 2                                               & 1                                               &  TRUE                                           & FALSE                                           & unenriched                                      & unenriched                                      & unenriched2                                     & data/Nov\\_unenriched2rep1/DTASelect-filter.txt\\\\\n",
       "\tNov\\_unenriched2rep2 & 2                                               & 2                                               &  TRUE                                           & FALSE                                           & unenriched                                      & unenriched                                      & unenriched2                                     & data/Nov\\_unenriched2rep2/DTASelect-filter.txt\\\\\n",
       "\tNov\\_unenriched2rep3 & 2                                               & 3                                               &  TRUE                                           & FALSE                                           & unenriched                                      & unenriched                                      & unenriched2                                     & data/Nov\\_unenriched2rep3/DTASelect-filter.txt\\\\\n",
       "\tNov\\_unenriched3rep1 & 3                                               & 1                                               &  TRUE                                           & FALSE                                           & unenriched                                      & unenriched                                      & unenriched3                                     & data/Nov\\_unenriched3rep1/DTASelect-filter.txt\\\\\n",
       "\tNov\\_unenriched3rep2 & 3                                               & 2                                               &  TRUE                                           & FALSE                                           & unenriched                                      & unenriched                                      & unenriched3                                     & data/Nov\\_unenriched3rep2/DTASelect-filter.txt\\\\\n",
       "\tNov\\_unenriched3rep3 & 3                                               & 3                                               &  TRUE                                           & FALSE                                           & unenriched                                      & unenriched                                      & unenriched3                                     & data/Nov\\_unenriched3rep3/DTASelect-filter.txt\\\\\n",
       "\tNov\\_VK1rep1 & 1                                               & 1                                               & FALSE                                           &  TRUE                                           & probe                                           & probe                                           & vk1                                             & data/Nov\\_VK1rep1/DTASelect-filter.txt        \\\\\n",
       "\tNov\\_VK1rep2 & 1                                               & 2                                               & FALSE                                           &  TRUE                                           & probe                                           & probe                                           & vk1                                             & data/Nov\\_VK1rep2/DTASelect-filter.txt        \\\\\n",
       "\tNov\\_VK1rep3 & 1                                               & 3                                               & FALSE                                           &  TRUE                                           & probe                                           & probe                                           & vk1                                             & data/Nov\\_VK1rep3/DTASelect-filter.txt        \\\\\n",
       "\tNov\\_VK3rep1 & 2                                               & 1                                               & FALSE                                           &  TRUE                                           & probe                                           & probe                                           & vk2                                             & data/Nov\\_VK3rep1/DTASelect-filter.txt        \\\\\n",
       "\tNov\\_VK3rep2 & 2                                               & 2                                               & FALSE                                           &  TRUE                                           & probe                                           & probe                                           & vk2                                             & data/Nov\\_VK3rep2/DTASelect-filter.txt        \\\\\n",
       "\tNov\\_VK3rep3 & 2                                               & 3                                               & FALSE                                           &  TRUE                                           & probe                                           & probe                                           & vk2                                             & data/Nov\\_VK3rep3/DTASelect-filter.txt        \\\\\n",
       "\tNov\\_VK5rep1 & 3                                               & 1                                               & FALSE                                           &  TRUE                                           & probe                                           & probe                                           & vk3                                             & data/Nov\\_VK5rep1/DTASelect-filter.txt        \\\\\n",
       "\tNov\\_VK5rep2 & 3                                               & 2                                               & FALSE                                           &  TRUE                                           & probe                                           & probe                                           & vk3                                             & data/Nov\\_VK5rep2/DTASelect-filter.txt        \\\\\n",
       "\tNov\\_VK5rep3 & 3                                               & 3                                               & FALSE                                           &  TRUE                                           & probe                                           & probe                                           & vk3                                             & data/Nov\\_VK5rep3/DTASelect-filter.txt        \\\\\n",
       "\\end{tabular}\n"
      ],
      "text/markdown": [
       "\n",
       "| <!--/--> | biological | technical | unenriched | probe | sample_type | sample_type2 | sample_name | path | \n",
       "|---|---|---|---|---|---|---|---|---|---|---|---|---|---|---|---|---|---|---|---|---|\n",
       "| Neg1rep1 | 1                                             | 1                                             | FALSE                                         | FALSE                                         | neg                                           | probe                                         | neg1                                          | data/Neg1rep1/DTASelect-filter.txt            | \n",
       "| Neg1rep2 | 1                                             | 2                                             | FALSE                                         | FALSE                                         | neg                                           | probe                                         | neg1                                          | data/Neg1rep2/DTASelect-filter.txt            | \n",
       "| Neg1rep3 | 1                                             | 3                                             | FALSE                                         | FALSE                                         | neg                                           | probe                                         | neg1                                          | data/Neg1rep3/DTASelect-filter.txt            | \n",
       "| Nov_unenriched1rep1 | 1                                             | 1                                             |  TRUE                                         | FALSE                                         | unenriched                                    | unenriched                                    | unenriched1                                   | data/Nov_unenriched1rep1/DTASelect-filter.txt | \n",
       "| Nov_unenriched1rep2 | 1                                             | 2                                             |  TRUE                                         | FALSE                                         | unenriched                                    | unenriched                                    | unenriched1                                   | data/Nov_unenriched1rep2/DTASelect-filter.txt | \n",
       "| Nov_unenriched1rep3 | 1                                             | 3                                             |  TRUE                                         | FALSE                                         | unenriched                                    | unenriched                                    | unenriched1                                   | data/Nov_unenriched1rep3/DTASelect-filter.txt | \n",
       "| Nov_unenriched2rep1 | 2                                             | 1                                             |  TRUE                                         | FALSE                                         | unenriched                                    | unenriched                                    | unenriched2                                   | data/Nov_unenriched2rep1/DTASelect-filter.txt | \n",
       "| Nov_unenriched2rep2 | 2                                             | 2                                             |  TRUE                                         | FALSE                                         | unenriched                                    | unenriched                                    | unenriched2                                   | data/Nov_unenriched2rep2/DTASelect-filter.txt | \n",
       "| Nov_unenriched2rep3 | 2                                             | 3                                             |  TRUE                                         | FALSE                                         | unenriched                                    | unenriched                                    | unenriched2                                   | data/Nov_unenriched2rep3/DTASelect-filter.txt | \n",
       "| Nov_unenriched3rep1 | 3                                             | 1                                             |  TRUE                                         | FALSE                                         | unenriched                                    | unenriched                                    | unenriched3                                   | data/Nov_unenriched3rep1/DTASelect-filter.txt | \n",
       "| Nov_unenriched3rep2 | 3                                             | 2                                             |  TRUE                                         | FALSE                                         | unenriched                                    | unenriched                                    | unenriched3                                   | data/Nov_unenriched3rep2/DTASelect-filter.txt | \n",
       "| Nov_unenriched3rep3 | 3                                             | 3                                             |  TRUE                                         | FALSE                                         | unenriched                                    | unenriched                                    | unenriched3                                   | data/Nov_unenriched3rep3/DTASelect-filter.txt | \n",
       "| Nov_VK1rep1 | 1                                             | 1                                             | FALSE                                         |  TRUE                                         | probe                                         | probe                                         | vk1                                           | data/Nov_VK1rep1/DTASelect-filter.txt         | \n",
       "| Nov_VK1rep2 | 1                                             | 2                                             | FALSE                                         |  TRUE                                         | probe                                         | probe                                         | vk1                                           | data/Nov_VK1rep2/DTASelect-filter.txt         | \n",
       "| Nov_VK1rep3 | 1                                             | 3                                             | FALSE                                         |  TRUE                                         | probe                                         | probe                                         | vk1                                           | data/Nov_VK1rep3/DTASelect-filter.txt         | \n",
       "| Nov_VK3rep1 | 2                                             | 1                                             | FALSE                                         |  TRUE                                         | probe                                         | probe                                         | vk2                                           | data/Nov_VK3rep1/DTASelect-filter.txt         | \n",
       "| Nov_VK3rep2 | 2                                             | 2                                             | FALSE                                         |  TRUE                                         | probe                                         | probe                                         | vk2                                           | data/Nov_VK3rep2/DTASelect-filter.txt         | \n",
       "| Nov_VK3rep3 | 2                                             | 3                                             | FALSE                                         |  TRUE                                         | probe                                         | probe                                         | vk2                                           | data/Nov_VK3rep3/DTASelect-filter.txt         | \n",
       "| Nov_VK5rep1 | 3                                             | 1                                             | FALSE                                         |  TRUE                                         | probe                                         | probe                                         | vk3                                           | data/Nov_VK5rep1/DTASelect-filter.txt         | \n",
       "| Nov_VK5rep2 | 3                                             | 2                                             | FALSE                                         |  TRUE                                         | probe                                         | probe                                         | vk3                                           | data/Nov_VK5rep2/DTASelect-filter.txt         | \n",
       "| Nov_VK5rep3 | 3                                             | 3                                             | FALSE                                         |  TRUE                                         | probe                                         | probe                                         | vk3                                           | data/Nov_VK5rep3/DTASelect-filter.txt         | \n",
       "\n",
       "\n"
      ],
      "text/plain": [
       "                    biological technical unenriched probe sample_type\n",
       "Neg1rep1            1          1         FALSE      FALSE neg        \n",
       "Neg1rep2            1          2         FALSE      FALSE neg        \n",
       "Neg1rep3            1          3         FALSE      FALSE neg        \n",
       "Nov_unenriched1rep1 1          1          TRUE      FALSE unenriched \n",
       "Nov_unenriched1rep2 1          2          TRUE      FALSE unenriched \n",
       "Nov_unenriched1rep3 1          3          TRUE      FALSE unenriched \n",
       "Nov_unenriched2rep1 2          1          TRUE      FALSE unenriched \n",
       "Nov_unenriched2rep2 2          2          TRUE      FALSE unenriched \n",
       "Nov_unenriched2rep3 2          3          TRUE      FALSE unenriched \n",
       "Nov_unenriched3rep1 3          1          TRUE      FALSE unenriched \n",
       "Nov_unenriched3rep2 3          2          TRUE      FALSE unenriched \n",
       "Nov_unenriched3rep3 3          3          TRUE      FALSE unenriched \n",
       "Nov_VK1rep1         1          1         FALSE       TRUE probe      \n",
       "Nov_VK1rep2         1          2         FALSE       TRUE probe      \n",
       "Nov_VK1rep3         1          3         FALSE       TRUE probe      \n",
       "Nov_VK3rep1         2          1         FALSE       TRUE probe      \n",
       "Nov_VK3rep2         2          2         FALSE       TRUE probe      \n",
       "Nov_VK3rep3         2          3         FALSE       TRUE probe      \n",
       "Nov_VK5rep1         3          1         FALSE       TRUE probe      \n",
       "Nov_VK5rep2         3          2         FALSE       TRUE probe      \n",
       "Nov_VK5rep3         3          3         FALSE       TRUE probe      \n",
       "                    sample_type2 sample_name\n",
       "Neg1rep1            probe        neg1       \n",
       "Neg1rep2            probe        neg1       \n",
       "Neg1rep3            probe        neg1       \n",
       "Nov_unenriched1rep1 unenriched   unenriched1\n",
       "Nov_unenriched1rep2 unenriched   unenriched1\n",
       "Nov_unenriched1rep3 unenriched   unenriched1\n",
       "Nov_unenriched2rep1 unenriched   unenriched2\n",
       "Nov_unenriched2rep2 unenriched   unenriched2\n",
       "Nov_unenriched2rep3 unenriched   unenriched2\n",
       "Nov_unenriched3rep1 unenriched   unenriched3\n",
       "Nov_unenriched3rep2 unenriched   unenriched3\n",
       "Nov_unenriched3rep3 unenriched   unenriched3\n",
       "Nov_VK1rep1         probe        vk1        \n",
       "Nov_VK1rep2         probe        vk1        \n",
       "Nov_VK1rep3         probe        vk1        \n",
       "Nov_VK3rep1         probe        vk2        \n",
       "Nov_VK3rep2         probe        vk2        \n",
       "Nov_VK3rep3         probe        vk2        \n",
       "Nov_VK5rep1         probe        vk3        \n",
       "Nov_VK5rep2         probe        vk3        \n",
       "Nov_VK5rep3         probe        vk3        \n",
       "                    path                                         \n",
       "Neg1rep1            data/Neg1rep1/DTASelect-filter.txt           \n",
       "Neg1rep2            data/Neg1rep2/DTASelect-filter.txt           \n",
       "Neg1rep3            data/Neg1rep3/DTASelect-filter.txt           \n",
       "Nov_unenriched1rep1 data/Nov_unenriched1rep1/DTASelect-filter.txt\n",
       "Nov_unenriched1rep2 data/Nov_unenriched1rep2/DTASelect-filter.txt\n",
       "Nov_unenriched1rep3 data/Nov_unenriched1rep3/DTASelect-filter.txt\n",
       "Nov_unenriched2rep1 data/Nov_unenriched2rep1/DTASelect-filter.txt\n",
       "Nov_unenriched2rep2 data/Nov_unenriched2rep2/DTASelect-filter.txt\n",
       "Nov_unenriched2rep3 data/Nov_unenriched2rep3/DTASelect-filter.txt\n",
       "Nov_unenriched3rep1 data/Nov_unenriched3rep1/DTASelect-filter.txt\n",
       "Nov_unenriched3rep2 data/Nov_unenriched3rep2/DTASelect-filter.txt\n",
       "Nov_unenriched3rep3 data/Nov_unenriched3rep3/DTASelect-filter.txt\n",
       "Nov_VK1rep1         data/Nov_VK1rep1/DTASelect-filter.txt        \n",
       "Nov_VK1rep2         data/Nov_VK1rep2/DTASelect-filter.txt        \n",
       "Nov_VK1rep3         data/Nov_VK1rep3/DTASelect-filter.txt        \n",
       "Nov_VK3rep1         data/Nov_VK3rep1/DTASelect-filter.txt        \n",
       "Nov_VK3rep2         data/Nov_VK3rep2/DTASelect-filter.txt        \n",
       "Nov_VK3rep3         data/Nov_VK3rep3/DTASelect-filter.txt        \n",
       "Nov_VK5rep1         data/Nov_VK5rep1/DTASelect-filter.txt        \n",
       "Nov_VK5rep2         data/Nov_VK5rep2/DTASelect-filter.txt        \n",
       "Nov_VK5rep3         data/Nov_VK5rep3/DTASelect-filter.txt        "
      ]
     },
     "metadata": {},
     "output_type": "display_data"
    }
   ],
   "source": [
    "meta_path = \"metadata.csv\"\n",
    "sampleTable = read.csv(meta_path, row.names = 1)\n",
    "sampleTable$biological=factor(sampleTable$biological)\n",
    "sampleTable$technical=factor(sampleTable$technical)\n",
    "sampleTable$sample_type=factor(sampleTable$sample_type)\n",
    "sampleTable$sample_type2=factor(sampleTable$sample_type2)\n",
    "sampleTable$sample_type <- relevel(sampleTable$sample_type, ref=\"unenriched\")\n",
    "sampleTable$sample_type2 <- relevel(sampleTable$sample_type2, ref=\"unenriched\")\n",
    "sampleTable"
   ]
  },
  {
   "cell_type": "code",
   "execution_count": 55,
   "metadata": {},
   "outputs": [],
   "source": [
    "countData = read.csv(\"out/df_filt.csv\", row.names = 1)\n",
    "locusTable = read.csv(\"out/locus_df.csv\", row.names = 1)\n",
    "sampleTable = sampleTable[colnames(countData),]"
   ]
  },
  {
   "cell_type": "code",
   "execution_count": 56,
   "metadata": {},
   "outputs": [],
   "source": [
    "dds = DESeqDataSetFromMatrix(countData, colData = sampleTable, ~ sample_type + biological)\n",
    "\n",
    "## collapse replicates\n",
    "dds = collapseReplicates(dds, dds$sample_name)\n",
    "sampleTable = colData(dds)"
   ]
  },
  {
   "cell_type": "code",
   "execution_count": 57,
   "metadata": {},
   "outputs": [
    {
     "data": {
      "text/html": [
       "<table>\n",
       "<thead><tr><th></th><th scope=col>neg1</th><th scope=col>unenriched1</th><th scope=col>unenriched2</th><th scope=col>unenriched3</th><th scope=col>vk1</th><th scope=col>vk2</th><th scope=col>vk3</th></tr></thead>\n",
       "<tbody>\n",
       "\t<tr><th scope=row>86769</th><td> 0</td><td>18</td><td>20</td><td>21</td><td> 0</td><td> 0</td><td> 0</td></tr>\n",
       "\t<tr><th scope=row>202956</th><td> 3</td><td>20</td><td>23</td><td>27</td><td>26</td><td>21</td><td>23</td></tr>\n",
       "\t<tr><th scope=row>209005</th><td>25</td><td>39</td><td>35</td><td>40</td><td>36</td><td>42</td><td>22</td></tr>\n",
       "\t<tr><th scope=row>318873</th><td> 3</td><td>23</td><td>28</td><td>30</td><td>19</td><td>19</td><td>17</td></tr>\n",
       "\t<tr><th scope=row>374028</th><td> 0</td><td>20</td><td>16</td><td>18</td><td> 0</td><td> 0</td><td> 0</td></tr>\n",
       "\t<tr><th scope=row>496339</th><td> 0</td><td>33</td><td>36</td><td>29</td><td> 0</td><td> 0</td><td> 0</td></tr>\n",
       "</tbody>\n",
       "</table>\n"
      ],
      "text/latex": [
       "\\begin{tabular}{r|lllllll}\n",
       "  & neg1 & unenriched1 & unenriched2 & unenriched3 & vk1 & vk2 & vk3\\\\\n",
       "\\hline\n",
       "\t86769 &  0 & 18 & 20 & 21 &  0 &  0 &  0\\\\\n",
       "\t202956 &  3 & 20 & 23 & 27 & 26 & 21 & 23\\\\\n",
       "\t209005 & 25 & 39 & 35 & 40 & 36 & 42 & 22\\\\\n",
       "\t318873 &  3 & 23 & 28 & 30 & 19 & 19 & 17\\\\\n",
       "\t374028 &  0 & 20 & 16 & 18 &  0 &  0 &  0\\\\\n",
       "\t496339 &  0 & 33 & 36 & 29 &  0 &  0 &  0\\\\\n",
       "\\end{tabular}\n"
      ],
      "text/markdown": [
       "\n",
       "| <!--/--> | neg1 | unenriched1 | unenriched2 | unenriched3 | vk1 | vk2 | vk3 | \n",
       "|---|---|---|---|---|---|\n",
       "| 86769 |  0 | 18 | 20 | 21 |  0 |  0 |  0 | \n",
       "| 202956 |  3 | 20 | 23 | 27 | 26 | 21 | 23 | \n",
       "| 209005 | 25 | 39 | 35 | 40 | 36 | 42 | 22 | \n",
       "| 318873 |  3 | 23 | 28 | 30 | 19 | 19 | 17 | \n",
       "| 374028 |  0 | 20 | 16 | 18 |  0 |  0 |  0 | \n",
       "| 496339 |  0 | 33 | 36 | 29 |  0 |  0 |  0 | \n",
       "\n",
       "\n"
      ],
      "text/plain": [
       "       neg1 unenriched1 unenriched2 unenriched3 vk1 vk2 vk3\n",
       "86769   0   18          20          21           0   0   0 \n",
       "202956  3   20          23          27          26  21  23 \n",
       "209005 25   39          35          40          36  42  22 \n",
       "318873  3   23          28          30          19  19  17 \n",
       "374028  0   20          16          18           0   0   0 \n",
       "496339  0   33          36          29           0   0   0 "
      ]
     },
     "metadata": {},
     "output_type": "display_data"
    }
   ],
   "source": [
    "head(counts(dds))"
   ]
  },
  {
   "cell_type": "code",
   "execution_count": 58,
   "metadata": {},
   "outputs": [
    {
     "data": {
      "text/html": [
       "<table>\n",
       "<thead><tr><th></th><th scope=col>neg1</th><th scope=col>unenriched1</th><th scope=col>unenriched2</th><th scope=col>unenriched3</th><th scope=col>vk1</th><th scope=col>vk2</th><th scope=col>vk3</th></tr></thead>\n",
       "<tbody>\n",
       "\t<tr><th scope=row>86769</th><td> 0</td><td>18</td><td>20</td><td>21</td><td> 0</td><td> 0</td><td> 0</td></tr>\n",
       "\t<tr><th scope=row>202956</th><td> 3</td><td>20</td><td>23</td><td>27</td><td>23</td><td>18</td><td>20</td></tr>\n",
       "\t<tr><th scope=row>209005</th><td>25</td><td>39</td><td>35</td><td>40</td><td>11</td><td>17</td><td> 0</td></tr>\n",
       "\t<tr><th scope=row>318873</th><td> 3</td><td>23</td><td>28</td><td>30</td><td>16</td><td>16</td><td>14</td></tr>\n",
       "\t<tr><th scope=row>374028</th><td> 0</td><td>20</td><td>16</td><td>18</td><td> 0</td><td> 0</td><td> 0</td></tr>\n",
       "\t<tr><th scope=row>496339</th><td> 0</td><td>33</td><td>36</td><td>29</td><td> 0</td><td> 0</td><td> 0</td></tr>\n",
       "</tbody>\n",
       "</table>\n"
      ],
      "text/latex": [
       "\\begin{tabular}{r|lllllll}\n",
       "  & neg1 & unenriched1 & unenriched2 & unenriched3 & vk1 & vk2 & vk3\\\\\n",
       "\\hline\n",
       "\t86769 &  0 & 18 & 20 & 21 &  0 &  0 &  0\\\\\n",
       "\t202956 &  3 & 20 & 23 & 27 & 23 & 18 & 20\\\\\n",
       "\t209005 & 25 & 39 & 35 & 40 & 11 & 17 &  0\\\\\n",
       "\t318873 &  3 & 23 & 28 & 30 & 16 & 16 & 14\\\\\n",
       "\t374028 &  0 & 20 & 16 & 18 &  0 &  0 &  0\\\\\n",
       "\t496339 &  0 & 33 & 36 & 29 &  0 &  0 &  0\\\\\n",
       "\\end{tabular}\n"
      ],
      "text/markdown": [
       "\n",
       "| <!--/--> | neg1 | unenriched1 | unenriched2 | unenriched3 | vk1 | vk2 | vk3 | \n",
       "|---|---|---|---|---|---|\n",
       "| 86769 |  0 | 18 | 20 | 21 |  0 |  0 |  0 | \n",
       "| 202956 |  3 | 20 | 23 | 27 | 23 | 18 | 20 | \n",
       "| 209005 | 25 | 39 | 35 | 40 | 11 | 17 |  0 | \n",
       "| 318873 |  3 | 23 | 28 | 30 | 16 | 16 | 14 | \n",
       "| 374028 |  0 | 20 | 16 | 18 |  0 |  0 |  0 | \n",
       "| 496339 |  0 | 33 | 36 | 29 |  0 |  0 |  0 | \n",
       "\n",
       "\n"
      ],
      "text/plain": [
       "       neg1 unenriched1 unenriched2 unenriched3 vk1 vk2 vk3\n",
       "86769   0   18          20          21           0   0   0 \n",
       "202956  3   20          23          27          23  18  20 \n",
       "209005 25   39          35          40          11  17   0 \n",
       "318873  3   23          28          30          16  16  14 \n",
       "374028  0   20          16          18           0   0   0 \n",
       "496339  0   33          36          29           0   0   0 "
      ]
     },
     "metadata": {},
     "output_type": "display_data"
    }
   ],
   "source": [
    "# subtract the neg samples\n",
    "countData = counts(dds)\n",
    "countData[,\"vk1\"] = countData[,\"vk1\"] - countData[,\"neg1\"]\n",
    "countData[,\"vk2\"] = countData[,\"vk2\"] - countData[,\"neg1\"]\n",
    "countData[,\"vk3\"] = countData[,\"vk3\"] - countData[,\"neg1\"]\n",
    "countData[countData<0] = 0\n",
    "head(countData)"
   ]
  },
  {
   "cell_type": "code",
   "execution_count": 59,
   "metadata": {},
   "outputs": [],
   "source": [
    "### get rid of the neg samples\n",
    "non_neg = rownames(sampleTable[sampleTable$sample_type != \"neg\",])\n",
    "countData = countData[,non_neg]\n",
    "sampleTable = sampleTable[non_neg,]"
   ]
  },
  {
   "cell_type": "code",
   "execution_count": 60,
   "metadata": {},
   "outputs": [
    {
     "data": {
      "text/html": [
       "<table>\n",
       "<thead><tr><th></th><th scope=col>unenriched1</th><th scope=col>unenriched2</th><th scope=col>unenriched3</th><th scope=col>vk1</th><th scope=col>vk2</th><th scope=col>vk3</th></tr></thead>\n",
       "<tbody>\n",
       "\t<tr><th scope=row>86769</th><td>18</td><td>20</td><td>21</td><td> 0</td><td> 0</td><td> 0</td></tr>\n",
       "\t<tr><th scope=row>202956</th><td>20</td><td>23</td><td>27</td><td>23</td><td>18</td><td>20</td></tr>\n",
       "\t<tr><th scope=row>209005</th><td>39</td><td>35</td><td>40</td><td>11</td><td>17</td><td> 0</td></tr>\n",
       "\t<tr><th scope=row>318873</th><td>23</td><td>28</td><td>30</td><td>16</td><td>16</td><td>14</td></tr>\n",
       "\t<tr><th scope=row>374028</th><td>20</td><td>16</td><td>18</td><td> 0</td><td> 0</td><td> 0</td></tr>\n",
       "\t<tr><th scope=row>496339</th><td>33</td><td>36</td><td>29</td><td> 0</td><td> 0</td><td> 0</td></tr>\n",
       "</tbody>\n",
       "</table>\n"
      ],
      "text/latex": [
       "\\begin{tabular}{r|llllll}\n",
       "  & unenriched1 & unenriched2 & unenriched3 & vk1 & vk2 & vk3\\\\\n",
       "\\hline\n",
       "\t86769 & 18 & 20 & 21 &  0 &  0 &  0\\\\\n",
       "\t202956 & 20 & 23 & 27 & 23 & 18 & 20\\\\\n",
       "\t209005 & 39 & 35 & 40 & 11 & 17 &  0\\\\\n",
       "\t318873 & 23 & 28 & 30 & 16 & 16 & 14\\\\\n",
       "\t374028 & 20 & 16 & 18 &  0 &  0 &  0\\\\\n",
       "\t496339 & 33 & 36 & 29 &  0 &  0 &  0\\\\\n",
       "\\end{tabular}\n"
      ],
      "text/markdown": [
       "\n",
       "| <!--/--> | unenriched1 | unenriched2 | unenriched3 | vk1 | vk2 | vk3 | \n",
       "|---|---|---|---|---|---|\n",
       "| 86769 | 18 | 20 | 21 |  0 |  0 |  0 | \n",
       "| 202956 | 20 | 23 | 27 | 23 | 18 | 20 | \n",
       "| 209005 | 39 | 35 | 40 | 11 | 17 |  0 | \n",
       "| 318873 | 23 | 28 | 30 | 16 | 16 | 14 | \n",
       "| 374028 | 20 | 16 | 18 |  0 |  0 |  0 | \n",
       "| 496339 | 33 | 36 | 29 |  0 |  0 |  0 | \n",
       "\n",
       "\n"
      ],
      "text/plain": [
       "       unenriched1 unenriched2 unenriched3 vk1 vk2 vk3\n",
       "86769  18          20          21           0   0   0 \n",
       "202956 20          23          27          23  18  20 \n",
       "209005 39          35          40          11  17   0 \n",
       "318873 23          28          30          16  16  14 \n",
       "374028 20          16          18           0   0   0 \n",
       "496339 33          36          29           0   0   0 "
      ]
     },
     "metadata": {},
     "output_type": "display_data"
    }
   ],
   "source": [
    "head(countData)"
   ]
  },
  {
   "cell_type": "code",
   "execution_count": 61,
   "metadata": {},
   "outputs": [
    {
     "data": {
      "text/plain": [
       "DataFrame with 6 rows and 8 columns\n",
       "            biological technical unenriched     probe sample_type sample_type2\n",
       "              <factor>  <factor>  <logical> <logical>    <factor>     <factor>\n",
       "unenriched1          1         1       TRUE     FALSE  unenriched   unenriched\n",
       "unenriched2          2         1       TRUE     FALSE  unenriched   unenriched\n",
       "unenriched3          3         1       TRUE     FALSE  unenriched   unenriched\n",
       "vk1                  1         1      FALSE      TRUE       probe        probe\n",
       "vk2                  2         1      FALSE      TRUE       probe        probe\n",
       "vk3                  3         1      FALSE      TRUE       probe        probe\n",
       "            sample_name                                          path\n",
       "               <factor>                                      <factor>\n",
       "unenriched1 unenriched1 data/Nov_unenriched1rep1/DTASelect-filter.txt\n",
       "unenriched2 unenriched2 data/Nov_unenriched2rep1/DTASelect-filter.txt\n",
       "unenriched3 unenriched3 data/Nov_unenriched3rep1/DTASelect-filter.txt\n",
       "vk1                 vk1         data/Nov_VK1rep1/DTASelect-filter.txt\n",
       "vk2                 vk2         data/Nov_VK3rep1/DTASelect-filter.txt\n",
       "vk3                 vk3         data/Nov_VK5rep1/DTASelect-filter.txt"
      ]
     },
     "metadata": {},
     "output_type": "display_data"
    }
   ],
   "source": [
    "sampleTable"
   ]
  },
  {
   "cell_type": "code",
   "execution_count": 62,
   "metadata": {},
   "outputs": [
    {
     "name": "stderr",
     "output_type": "stream",
     "text": [
      "converting counts to integer mode\n",
      "factor levels were dropped which had no samples\n"
     ]
    }
   ],
   "source": [
    "dds = DESeqDataSetFromMatrix(countData, colData = sampleTable, ~ sample_type + biological)"
   ]
  },
  {
   "cell_type": "code",
   "execution_count": 63,
   "metadata": {},
   "outputs": [
    {
     "name": "stderr",
     "output_type": "stream",
     "text": [
      "estimating size factors\n",
      "estimating dispersions\n",
      "gene-wise dispersion estimates\n",
      "mean-dispersion relationship\n",
      "final dispersion estimates\n",
      "fitting model and testing\n"
     ]
    }
   ],
   "source": [
    "dds = DESeq(dds)"
   ]
  },
  {
   "cell_type": "code",
   "execution_count": 64,
   "metadata": {},
   "outputs": [],
   "source": [
    "#mcols(dds)<-cbind(mcols(dds),locusTable)\n",
    "save(dds, file = \"out/dds\")"
   ]
  },
  {
   "cell_type": "code",
   "execution_count": 65,
   "metadata": {},
   "outputs": [
    {
     "name": "stdout",
     "output_type": "stream",
     "text": [
      "\n",
      "out of 9237 with nonzero total read count\n",
      "adjusted p-value < 0.1\n",
      "LFC > 0 (up)     : 316, 3.4% \n",
      "LFC < 0 (down)   : 2611, 28% \n",
      "outliers [1]     : 0, 0% \n",
      "low counts [2]   : 167, 1.8% \n",
      "(mean count < 2)\n",
      "[1] see 'cooksCutoff' argument of ?results\n",
      "[2] see 'independentFiltering' argument of ?results\n",
      "\n"
     ]
    }
   ],
   "source": [
    "res = results(dds, contrast=c(\"sample_type\",\"probe\",\"unenriched\"))\n",
    "summary(res)"
   ]
  },
  {
   "cell_type": "code",
   "execution_count": 66,
   "metadata": {},
   "outputs": [],
   "source": [
    "res = cbind(res, locusTable)\n",
    "save(res, file = \"out/res_probe_unenriched\")"
   ]
  },
  {
   "cell_type": "code",
   "execution_count": 67,
   "metadata": {},
   "outputs": [],
   "source": [
    "resOrdered <- res[order(res$padj),]\n",
    "write.csv(as.data.frame(resOrdered),file=\"out/probe_unenriched_deseq_results.csv\")"
   ]
  },
  {
   "cell_type": "code",
   "execution_count": null,
   "metadata": {},
   "outputs": [],
   "source": []
  }
 ],
 "metadata": {
  "kernelspec": {
   "display_name": "R",
   "language": "R",
   "name": "ir"
  },
  "language_info": {
   "codemirror_mode": "r",
   "file_extension": ".r",
   "mimetype": "text/x-r-source",
   "name": "R",
   "pygments_lexer": "r",
   "version": "3.4.3"
  }
 },
 "nbformat": 4,
 "nbformat_minor": 2
}
